{
  "cells": [
    {
      "cell_type": "markdown",
      "metadata": {},
      "source": [
        "# Climate Data Exploratory Data Analysis\n",
        "\n",
        "## Introduction\n",
        "This notebook contains an exploratory data analysis of climate data from 1900 to 2023. The dataset includes global temperatures, CO2 concentration, sea level rise, and Arctic ice area.\n",
        "\n",
        "Your task is to perform a comprehensive EDA following the requirements in the README.md file."
      ]
    },
    {
      "cell_type": "code",
      "execution_count": 44,
      "metadata": {},
      "outputs": [],
      "source": [
        "# Import required libraries\n",
        "import pandas as pd\n",
        "import numpy as np\n",
        "import matplotlib.pyplot as plt\n",
        "import seaborn as sns\n",
        "\n",
        "\n",
        "\n",
        "# Set plot styling\n",
        "plt.style.use('seaborn-v0_8-whitegrid')\n",
        "sns.set_palette('viridis')\n",
        "%matplotlib inline"
      ]
    },
    {
      "cell_type": "markdown",
      "metadata": {},
      "source": [
        "## 1. Data Preparation\n",
        "\n",
        "Load the climate data and perform necessary cleaning and aggregation."
      ]
    },
    {
      "cell_type": "code",
      "execution_count": 45,
      "metadata": {},
      "outputs": [
        {
          "data": {
            "text/html": [
              "<div>\n",
              "<style scoped>\n",
              "    .dataframe tbody tr th:only-of-type {\n",
              "        vertical-align: middle;\n",
              "    }\n",
              "\n",
              "    .dataframe tbody tr th {\n",
              "        vertical-align: top;\n",
              "    }\n",
              "\n",
              "    .dataframe thead th {\n",
              "        text-align: right;\n",
              "    }\n",
              "</style>\n",
              "<table border=\"1\" class=\"dataframe\">\n",
              "  <thead>\n",
              "    <tr style=\"text-align: right;\">\n",
              "      <th></th>\n",
              "      <th>Year</th>\n",
              "      <th>Global Average Temperature (°C)</th>\n",
              "      <th>CO2 Concentration (ppm)</th>\n",
              "      <th>Sea Level Rise (mm)</th>\n",
              "      <th>Arctic Ice Area (million km²)</th>\n",
              "    </tr>\n",
              "  </thead>\n",
              "  <tbody>\n",
              "    <tr>\n",
              "      <th>0</th>\n",
              "      <td>1948</td>\n",
              "      <td>13.17</td>\n",
              "      <td>397.04</td>\n",
              "      <td>116.25</td>\n",
              "      <td>5.97</td>\n",
              "    </tr>\n",
              "    <tr>\n",
              "      <th>1</th>\n",
              "      <td>1996</td>\n",
              "      <td>13.10</td>\n",
              "      <td>313.17</td>\n",
              "      <td>277.92</td>\n",
              "      <td>9.66</td>\n",
              "    </tr>\n",
              "    <tr>\n",
              "      <th>2</th>\n",
              "      <td>2015</td>\n",
              "      <td>14.67</td>\n",
              "      <td>311.95</td>\n",
              "      <td>290.32</td>\n",
              "      <td>8.40</td>\n",
              "    </tr>\n",
              "    <tr>\n",
              "      <th>3</th>\n",
              "      <td>1966</td>\n",
              "      <td>14.79</td>\n",
              "      <td>304.25</td>\n",
              "      <td>189.71</td>\n",
              "      <td>11.83</td>\n",
              "    </tr>\n",
              "    <tr>\n",
              "      <th>4</th>\n",
              "      <td>1992</td>\n",
              "      <td>13.15</td>\n",
              "      <td>354.52</td>\n",
              "      <td>14.84</td>\n",
              "      <td>11.23</td>\n",
              "    </tr>\n",
              "  </tbody>\n",
              "</table>\n",
              "</div>"
            ],
            "text/plain": [
              "   Year  Global Average Temperature (°C)  CO2 Concentration (ppm)  \\\n",
              "0  1948                            13.17                   397.04   \n",
              "1  1996                            13.10                   313.17   \n",
              "2  2015                            14.67                   311.95   \n",
              "3  1966                            14.79                   304.25   \n",
              "4  1992                            13.15                   354.52   \n",
              "\n",
              "   Sea Level Rise (mm)  Arctic Ice Area (million km²)  \n",
              "0               116.25                           5.97  \n",
              "1               277.92                           9.66  \n",
              "2               290.32                           8.40  \n",
              "3               189.71                          11.83  \n",
              "4                14.84                          11.23  "
            ]
          },
          "execution_count": 45,
          "metadata": {},
          "output_type": "execute_result"
        }
      ],
      "source": [
        "# Load the dataset\n",
        "df = pd.read_csv('data/Climate_Change_Indicators.csv') # Place the correct path to the file you are reading here (Make sure to load using the relative path)\n",
        "\n",
        "# Display the first few rows of the dataset\n",
        "df.head()"
      ]
    },
    {
      "cell_type": "code",
      "execution_count": 46,
      "metadata": {},
      "outputs": [
        {
          "name": "stdout",
          "output_type": "stream",
          "text": [
            "Dataset Information:\n",
            "<class 'pandas.core.frame.DataFrame'>\n",
            "RangeIndex: 1048576 entries, 0 to 1048575\n",
            "Data columns (total 5 columns):\n",
            " #   Column                           Non-Null Count    Dtype  \n",
            "---  ------                           --------------    -----  \n",
            " 0   Year                             1048576 non-null  int64  \n",
            " 1   Global Average Temperature (°C)  1048576 non-null  float64\n",
            " 2   CO2 Concentration (ppm)          1048576 non-null  float64\n",
            " 3   Sea Level Rise (mm)              1048576 non-null  float64\n",
            " 4   Arctic Ice Area (million km²)    1048576 non-null  float64\n",
            "dtypes: float64(4), int64(1)\n",
            "memory usage: 40.0 MB\n",
            "None\n",
            "\n",
            "Missing Values:\n",
            "Year                               0\n",
            "Global Average Temperature (°C)    0\n",
            "CO2 Concentration (ppm)            0\n",
            "Sea Level Rise (mm)                0\n",
            "Arctic Ice Area (million km²)      0\n",
            "dtype: int64\n"
          ]
        }
      ],
      "source": [
        "# Check for missing values and basic information about the dataset\n",
        "print(\"Dataset Information:\")\n",
        "print(df.info())\n",
        "print(\"\\nMissing Values:\")\n",
        "print(df.isnull().sum())"
      ]
    },
    {
      "cell_type": "code",
      "execution_count": 47,
      "metadata": {},
      "outputs": [
        {
          "name": "stdout",
          "output_type": "stream",
          "text": [
            "   Year  Global Average Temperature (°C)  CO2 Concentration (ppm)  \\\n",
            "0  1900                        14.506663               350.373405   \n",
            "1  1901                        14.485343               349.757140   \n",
            "2  1902                        14.476262               349.299686   \n",
            "3  1903                        14.492360               349.644375   \n",
            "4  1904                        14.494241               349.537032   \n",
            "5  1905                        14.486222               349.768517   \n",
            "6  1906                        14.501610               350.269288   \n",
            "7  1907                        14.507352               349.707452   \n",
            "8  1908                        14.489932               349.908538   \n",
            "9  1909                        14.524320               349.477657   \n",
            "\n",
            "   Sea Level Rise (mm)  Arctic Ice Area (million km²)  \n",
            "0           150.408288                       8.978659  \n",
            "1           150.548828                       8.947272  \n",
            "2           152.174821                       9.035554  \n",
            "3           150.138338                       9.056501  \n",
            "4           150.667318                       8.990691  \n",
            "5           150.277400                       9.000760  \n",
            "6           148.972095                       8.955128  \n",
            "7           149.428630                       8.962523  \n",
            "8           149.750179                       8.944292  \n",
            "9           149.091689                       9.020469  \n"
          ]
        }
      ],
      "source": [
        "# TODO: Aggregate data by year to create a 124-year time series\n",
        "df_aggregated = df.groupby('Year').mean().reset_index()\n",
        "\n",
        "# Display the first few rows of the aggregated dataset\n",
        "print(df_aggregated.head(10))"
      ]
    },
    {
      "cell_type": "markdown",
      "metadata": {},
      "source": [
        "## 2. Univariate Analysis\n",
        "\n",
        "Analyze each climate variable independently."
      ]
    },
    {
      "cell_type": "code",
      "execution_count": null,
      "metadata": {},
      "outputs": [],
      "source": [
        "\n",
        "# Rename columns for clarity\n",
        "df_aggregated.rename(columns={\n",
        "    \"Global Average Temperature (°C)\": \"Temperature\",\n",
        "    \"CO2 Concentration (ppm)\": \"CO2\",\n",
        "    \"Sea Level Rise (mm)\": \"Sea_Level\",\n",
        "    \"Arctic Ice Area (million km²)\": \"Ice_Area\"\n",
        "}, inplace=True)\n",
        "\n",
        "# Define variables for analysis\n",
        "variables = [\"Temperature\", \"CO2\", \"Sea_Level\", \"Ice_Area\"]\n",
        "\n",
        "# Compute and print descriptive statistics\n",
        "stats_df = df_aggregated[variables].describe().round(2)\n",
        "\n",
        "for column in variables:\n",
        "    print(f\"\\nDescriptive Statistics for {column}:\")\n",
        "    print(stats_df[column].to_string())\n"
      ]
    },
    {
      "cell_type": "code",
      "execution_count": null,
      "metadata": {},
      "outputs": [],
      "source": [
        "\n",
        "# Plot histograms with KDE\n",
        "fig, axes = plt.subplots(nrows=2, ncols=2, figsize=(12, 8))\n",
        "axes = axes.flatten()  # Flatten to easily iterate over\n",
        "\n",
        "for i, column in enumerate(variables):\n",
        "    sns.histplot(df_aggregated[column], bins=20, kde=True, color=\"blue\", ax=axes[i])\n",
        "    axes[i].set_xlabel(column, fontsize=12)\n",
        "    axes[i].set_ylabel(\"Frequency\", fontsize=12)\n",
        "    axes[i].set_title(f\"Histogram of {column}\", fontsize=14)\n",
        "\n",
        "plt.tight_layout()\n",
        "plt.show()\n"
      ]
    },
    {
      "cell_type": "code",
      "execution_count": null,
      "metadata": {},
      "outputs": [],
      "source": [
        "\n",
        "# Plot box plots for each variable\n",
        "fig, axes = plt.subplots(nrows=2, ncols=2, figsize=(12, 8))\n",
        "axes = axes.flatten()\n",
        "\n",
        "for i, column in enumerate(variables):\n",
        "    sns.boxplot(x=df_aggregated[column], ax=axes[i], whis=1.5)\n",
        "    axes[i].set_title(f'Box Plot for {column}', fontsize=14)\n",
        "    axes[i].set_xlabel(column, fontsize=12)\n",
        "    axes[i].set_ylabel('Value', fontsize=12)\n",
        "\n",
        "plt.tight_layout()\n",
        "plt.show()\n"
      ]
    },
    {
      "cell_type": "code",
      "execution_count": null,
      "metadata": {},
      "outputs": [],
      "source": [
        "\n",
        "# Plot KDE plots for each variable\n",
        "fig, axes = plt.subplots(nrows=2, ncols=2, figsize=(12, 8))\n",
        "axes = axes.flatten()\n",
        "\n",
        "for i, column in enumerate(variables):\n",
        "    sns.kdeplot(df_aggregated[column], color='red', ax=axes[i])\n",
        "    axes[i].set_title(f'KDE Plot of {column}', fontsize=14)\n",
        "    axes[i].set_xlabel(column, fontsize=12)\n",
        "    axes[i].set_ylabel('Density', fontsize=12)\n",
        "\n",
        "plt.tight_layout()\n",
        "plt.show()\n"
      ]
    },
    {
      "cell_type": "code",
      "execution_count": null,
      "metadata": {},
      "outputs": [],
      "source": [
        "\n",
        "# Plot Distribution plots (displot) for each variable\n",
        "fig, axes = plt.subplots(nrows=2, ncols=2, figsize=(12, 8))\n",
        "axes = axes.flatten()\n",
        "\n",
        "for i, column in enumerate(variables):\n",
        "    sns.histplot(df_aggregated[column], bins=20, kde=True, color=\"blue\", ax=axes[i])\n",
        "    axes[i].set_title(f'Distribution Plot of {column}', fontsize=14)\n",
        "    axes[i].set_xlabel(column, fontsize=12)\n",
        "    axes[i].set_ylabel('Frequency', fontsize=12)\n",
        "\n",
        "plt.tight_layout()\n",
        "plt.show()\n"
      ]
    },
    {
      "cell_type": "code",
      "execution_count": null,
      "metadata": {},
      "outputs": [],
      "source": [
        "\n",
        "# Time Series Analysis for each variable\n",
        "fig, axes = plt.subplots(nrows=2, ncols=2, figsize=(12, 8))\n",
        "axes = axes.flatten()\n",
        "\n",
        "for i, column in enumerate(variables):\n",
        "    axes[i].plot(df_aggregated[\"Year\"], df_aggregated[column], marker='o', linestyle='-', label=f\"{column} Trend\")\n",
        "    axes[i].set_xlabel(\"Year\", fontsize=12)\n",
        "    axes[i].set_ylabel(column, fontsize=12)\n",
        "    axes[i].set_title(f\"Time Series (1900-2023) of {column}\", fontsize=14)\n",
        "    axes[i].legend()\n",
        "\n",
        "plt.tight_layout()\n",
        "plt.show()\n"
      ]
    },
    {
      "cell_type": "markdown",
      "metadata": {},
      "source": [
        "## 3. Bivariate Analysis\n",
        "\n",
        "Explore relationships between pairs of climate variables."
      ]
    },
    {
      "cell_type": "code",
      "execution_count": null,
      "metadata": {},
      "outputs": [],
      "source": [
        "\n",
        "# Bivariate Analysis - Scatter plots for pairs of variables\n",
        "sns.pairplot(df_aggregated[variables], diag_kind='kde', markers='o')\n",
        "plt.suptitle('Pair Plot of Climate Variables', y=1.02, fontsize=16)\n",
        "plt.tight_layout()\n",
        "plt.show()\n"
      ]
    },
    {
      "cell_type": "code",
      "execution_count": null,
      "metadata": {},
      "outputs": [],
      "source": [
        "\n",
        "# Compute correlation coefficients (excluding the 'Year' variable)\n",
        "correlation_matrix = df_aggregated[variables].corr()\n",
        "print(\"Correlation Coefficients:\\n\", correlation_matrix)\n"
      ]
    },
    {
      "cell_type": "code",
      "execution_count": null,
      "metadata": {},
      "outputs": [],
      "source": [
        "\n",
        "\n",
        "# Correlation Heatmap\n",
        "plt.figure(figsize=(8, 6))\n",
        "sns.heatmap(correlation_matrix, annot=True, cmap='coolwarm', fmt='.2f', linewidths=0.5)\n",
        "plt.title('Correlation Heatmap', fontsize=16)\n",
        "plt.tight_layout()  # Ensures everything fits well in the figure\n",
        "plt.show()\n"
      ]
    },
    {
      "cell_type": "code",
      "execution_count": null,
      "metadata": {},
      "outputs": [],
      "source": [
        "\n",
        "# Line plots to analyze trends over time\n",
        "fig, axes = plt.subplots(2, 2, figsize=(12, 10))\n",
        "variables = ['Temperature', 'CO2', 'Sea_Level', 'Ice_Area']\n",
        "colors = ['r', 'g', 'b', 'purple']\n",
        "\n",
        "for ax, var, color in zip(axes.flatten(), variables, colors):\n",
        "    sns.lineplot(data=df_aggregated, x='Year', y=var, ax=ax, color=color)\n",
        "    ax.set_title(f'Trend of {var} Over Time', fontsize=14)\n",
        "    ax.set_xlabel('Year', fontsize=12)\n",
        "    ax.set_ylabel(var, fontsize=12)\n",
        "\n",
        "plt.tight_layout()\n",
        "plt.show()\n"
      ]
    },
    {
      "cell_type": "markdown",
      "metadata": {},
      "source": [
        "## 4. Multivariate Analysis\n",
        "\n",
        "Investigate relationships among three or more variables."
      ]
    },
    {
      "cell_type": "code",
      "execution_count": null,
      "metadata": {},
      "outputs": [],
      "source": [
        "\n",
        "\n",
        "# Create a 3D figure and scatter plot\n",
        "fig = plt.figure(figsize=(10, 7))\n",
        "ax = fig.add_subplot(111, projection=\"3d\")\n",
        "\n",
        "# Scatter plot\n",
        "sc = ax.scatter(df_aggregated['Year'], df_aggregated['CO2'], df_aggregated['Temperature'], \n",
        "                c=df_aggregated['Sea_Level'], cmap='coolwarm', s=50, alpha=0.7)\n",
        "\n",
        "# Set labels and title\n",
        "ax.set_xlabel('Year', fontsize=12)\n",
        "ax.set_ylabel('CO2 Levels', fontsize=12)\n",
        "ax.set_zlabel('Temperature', fontsize=12)\n",
        "ax.set_title('3D Scatter Plot of Temperature vs CO2 vs Year', fontsize=14)\n",
        "\n",
        "# Color bar\n",
        "cbar = plt.colorbar(sc)\n",
        "cbar.set_label('Sea Level', fontsize=12)\n",
        "\n",
        "plt.show()\n"
      ]
    },
    {
      "cell_type": "code",
      "execution_count": null,
      "metadata": {},
      "outputs": [],
      "source": [
        "\n",
        "\n",
        "\n",
        "# Reshape data for Seaborn\n",
        "df_melted = df_aggregated.melt(id_vars='Year', value_vars=['Temperature', 'CO2', 'Sea_Level', 'Ice_Area'])\n",
        "\n",
        "# Create multiple line plots for each variable using FacetGrid\n",
        "g = sns.FacetGrid(df_melted, col='variable', col_wrap=2, height=4, sharex=True)\n",
        "g.map(sns.lineplot, 'Year', 'value')\n",
        "\n",
        "# Set the title and show the plot\n",
        "g.set_titles(\"{col_name}\", fontsize=14)\n",
        "g.set_axis_labels(\"Year\", \"Value\", fontsize=12)\n",
        "\n",
        "plt.tight_layout()\n",
        "plt.show()\n"
      ]
    },
    {
      "cell_type": "markdown",
      "metadata": {},
      "source": [
        "## 5. Conclusions and Insights\n",
        "\n",
        "Summarize your findings and discuss their implications."
      ]
    },
    {
      "cell_type": "markdown",
      "metadata": {},
      "source": [
        "Based on the climate data analysis, several important findings and insights were derived from the data, which provide a clearer understanding of the climate trends over time. The following points summarize the key observations:\n",
        "\n",
        "Key Findings:\n",
        "Global Average Temperature Increase:\n",
        "\n",
        "There has been a significant increase in the global average temperature over the years, which is a clear indicator of global warming. This trend is particularly noticeable after the mid-20th century, aligning with the industrial revolution and increased greenhouse gas emissions.\n",
        "Rising CO2 Concentration:\n",
        "\n",
        "The CO2 concentration has been rising consistently, showing a strong correlation with the increase in global temperature. This is a crucial finding as CO2 is one of the primary greenhouse gases driving climate change. The spike in CO2 concentration around the 1950s aligns with industrialization and increased fossil fuel consumption.\n",
        "Sea Level Rise:\n",
        "\n",
        "The sea level has been rising steadily over the years, which is a direct result of the melting polar ice caps and glaciers, as well as thermal expansion of the ocean due to global warming. This finding has significant implications for coastal areas, as rising sea levels threaten ecosystems, infrastructure, and populations living in these areas.\n",
        "Declining Arctic Ice Area:\n",
        "\n",
        "The Arctic ice area has been decreasing over time, a clear sign of the impact of global warming. The shrinking ice caps not only contribute to rising sea levels but also disrupt ecosystems and biodiversity in the Arctic region.\n",
        "Correlations Between Variables:\n",
        "\n",
        "Strong positive correlations were observed between temperature and CO2 levels, which is expected given that CO2 is a major driver of global temperature increases. The relationship between temperature and sea level is also significant, as higher temperatures lead to the melting of ice sheets and glaciers, contributing to sea level rise.\n",
        "The analysis suggests that as one variable increases (e.g., temperature), others like CO2 and sea level rise tend to follow suit.\n",
        "Implications of the Findings:\n",
        "Impact on Policy and Decision-Making:\n",
        "\n",
        "The increase in global temperature and CO2 concentration underscores the urgent need for climate action. Policymakers and governments should prioritize efforts to reduce carbon emissions and transition to renewable energy sources to mitigate climate change.\n",
        "The rising sea levels and shrinking ice areas indicate the necessity for more robust climate adaptation strategies, particularly for coastal and polar regions. This includes investing in infrastructure to withstand flooding and potential displacement of populations.\n",
        "Environmental and Ecological Impact:\n",
        "\n",
        "The decline in Arctic ice and the corresponding rise in sea levels pose threats to biodiversity, particularly in the Arctic region. There is an urgent need to protect vulnerable species and ecosystems.\n",
        "Changes in temperature and sea levels also have far-reaching effects on agriculture, water resources, and biodiversity across the globe. Understanding these trends allows for better preparation for future challenges related to climate change.\n",
        "Future Climate Scenarios:\n",
        "\n",
        "If current trends continue, it is likely that the world will experience more extreme weather events, such as heatwaves, storms, and floods. Addressing these trends requires not only reducing greenhouse gas emissions but also enhancing resilience to these events through infrastructure, better land use practices, and disaster preparedness.\n",
        "The Role of Climate Science and Research:\n",
        "\n",
        "Continued climate research is essential to refine our understanding of the complex interactions between temperature, CO2, sea levels, and ice areas. This will allow for more accurate predictions and help guide both mitigation and adaptation efforts in the coming decades.\n",
        "Final Thoughts:\n",
        "The analysis strongly supports the scientific consensus that human activity, particularly the burning of fossil fuels, is driving climate change. Immediate action is needed to address these issues. In addition to global initiatives, local efforts and innovative solutions will play a critical role in reducing the impact of climate change and fostering a sustainable future for generations to come."
      ]
    }
  ],
  "metadata": {
    "kernelspec": {
      "display_name": "base",
      "language": "python",
      "name": "python3"
    },
    "language_info": {
      "codemirror_mode": {
        "name": "ipython",
        "version": 3
      },
      "file_extension": ".py",
      "mimetype": "text/x-python",
      "name": "python",
      "nbconvert_exporter": "python",
      "pygments_lexer": "ipython3",
      "version": "3.12.7"
    }
  },
  "nbformat": 4,
  "nbformat_minor": 4
}
