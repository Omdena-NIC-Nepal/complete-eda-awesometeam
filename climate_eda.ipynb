{
  "cells": [
    {
      "cell_type": "markdown",
      "metadata": {},
      "source": [
        "# Climate Data Exploratory Data Analysis\n",
        "\n",
        "## Introduction\n",
        "This notebook contains an exploratory data analysis of climate data from 1900 to 2023. The dataset includes global temperatures, CO2 concentration, sea level rise, and Arctic ice area.\n",
        "\n",
        "Your task is to perform a comprehensive EDA following the requirements in the README.md file."
      ]
    },
    {
      "cell_type": "code",
      "execution_count": 27,
      "metadata": {},
      "outputs": [],
      "source": [
        "# Import required libraries\n",
        "import pandas as pd\n",
        "import numpy as np\n",
        "import matplotlib.pyplot as plt\n",
        "import seaborn as sns\n",
        "\n",
        "\n",
        "\n",
        "# Set plot styling\n",
        "plt.style.use('seaborn-v0_8-whitegrid')\n",
        "sns.set_palette('viridis')\n",
        "%matplotlib inline"
      ]
    },
    {
      "cell_type": "markdown",
      "metadata": {},
      "source": [
        "## 1. Data Preparation\n",
        "\n",
        "Load the climate data and perform necessary cleaning and aggregation."
      ]
    },
    {
      "cell_type": "code",
      "execution_count": null,
      "metadata": {},
      "outputs": [],
      "source": [
        "# Load the dataset\n",
        "df = pd.read_csv('data/Climate_Change_Indicators.csv') # Place the correct path to the file you are reading here (Make sure to load using the relative path)\n",
        "\n",
        "# Display the first few rows of the dataset\n",
        "df.head()"
      ]
    },
    {
      "cell_type": "code",
      "execution_count": null,
      "metadata": {},
      "outputs": [],
      "source": [
        "# Check for missing values and basic information about the dataset\n",
        "print(\"Dataset Information:\")\n",
        "print(df.info())\n",
        "print(\"\\nMissing Values:\")\n",
        "print(df.isnull().sum())"
      ]
    },
    {
      "cell_type": "code",
      "execution_count": null,
      "metadata": {},
      "outputs": [],
      "source": [
        "# TODO: Aggregate data by year to create a 124-year time series\n",
        "df_aggregated = df.groupby('Year').mean().reset_index()\n",
        "\n",
        "# Display the first few rows of the aggregated dataset\n",
        "print(df_aggregated.head(10))"
      ]
    },
    {
      "cell_type": "markdown",
      "metadata": {},
      "source": [
        "## 2. Univariate Analysis\n",
        "\n",
        "Analyze each climate variable independently."
      ]
    },
    {
      "cell_type": "code",
      "execution_count": null,
      "metadata": {},
      "outputs": [],
      "source": [
        "\n",
        "# Rename columns for clarity\n",
        "df_aggregated.rename(columns={\n",
        "    \"Global Average Temperature (°C)\": \"Temperature\",\n",
        "    \"CO2 Concentration (ppm)\": \"CO2\",\n",
        "    \"Sea Level Rise (mm)\": \"Sea_Level\",\n",
        "    \"Arctic Ice Area (million km²)\": \"Ice_Area\"\n",
        "}, inplace=True)\n",
        "\n",
        "# Define variables for analysis\n",
        "variables = [\"Temperature\", \"CO2\", \"Sea_Level\", \"Ice_Area\"]\n",
        "\n",
        "# Compute and print descriptive statistics\n",
        "stats_df = df_aggregated[variables].describe().round(2)\n",
        "\n",
        "for column in variables:\n",
        "    print(f\"\\nDescriptive Statistics for {column}:\")\n",
        "    print(stats_df[column].to_string())\n"
      ]
    },
    {
      "cell_type": "code",
      "execution_count": null,
      "metadata": {},
      "outputs": [],
      "source": [
        "\n",
        "# Plot histograms with KDE\n",
        "fig, axes = plt.subplots(nrows=2, ncols=2, figsize=(12, 8))\n",
        "axes = axes.flatten()  # Flatten to easily iterate over\n",
        "\n",
        "for i, column in enumerate(variables):\n",
        "    sns.histplot(df_aggregated[column], bins=20, kde=True, color=\"blue\", ax=axes[i])\n",
        "    axes[i].set_xlabel(column, fontsize=12)\n",
        "    axes[i].set_ylabel(\"Frequency\", fontsize=12)\n",
        "    axes[i].set_title(f\"Histogram of {column}\", fontsize=14)\n",
        "\n",
        "plt.tight_layout()\n",
        "plt.show()\n"
      ]
    },
    {
      "cell_type": "code",
      "execution_count": null,
      "metadata": {},
      "outputs": [],
      "source": [
        "\n",
        "# Plot box plots for each variable\n",
        "fig, axes = plt.subplots(nrows=2, ncols=2, figsize=(12, 8))\n",
        "axes = axes.flatten()\n",
        "\n",
        "for i, column in enumerate(variables):\n",
        "    sns.boxplot(x=df_aggregated[column], ax=axes[i], whis=1.5)\n",
        "    axes[i].set_title(f'Box Plot for {column}', fontsize=14)\n",
        "    axes[i].set_xlabel(column, fontsize=12)\n",
        "    axes[i].set_ylabel('Value', fontsize=12)\n",
        "\n",
        "plt.tight_layout()\n",
        "plt.show()\n"
      ]
    },
    {
      "cell_type": "code",
      "execution_count": null,
      "metadata": {},
      "outputs": [],
      "source": [
        "\n",
        "# Plot KDE plots for each variable\n",
        "fig, axes = plt.subplots(nrows=2, ncols=2, figsize=(12, 8))\n",
        "axes = axes.flatten()\n",
        "\n",
        "for i, column in enumerate(variables):\n",
        "    sns.kdeplot(df_aggregated[column], color='red', ax=axes[i])\n",
        "    axes[i].set_title(f'KDE Plot of {column}', fontsize=14)\n",
        "    axes[i].set_xlabel(column, fontsize=12)\n",
        "    axes[i].set_ylabel('Density', fontsize=12)\n",
        "\n",
        "plt.tight_layout()\n",
        "plt.show()\n"
      ]
    },
    {
      "cell_type": "code",
      "execution_count": null,
      "metadata": {},
      "outputs": [],
      "source": [
        "\n",
        "# Plot Distribution plots (displot) for each variable\n",
        "fig, axes = plt.subplots(nrows=2, ncols=2, figsize=(12, 8))\n",
        "axes = axes.flatten()\n",
        "\n",
        "for i, column in enumerate(variables):\n",
        "    sns.histplot(df_aggregated[column], bins=20, kde=True, color=\"blue\", ax=axes[i])\n",
        "    axes[i].set_title(f'Distribution Plot of {column}', fontsize=14)\n",
        "    axes[i].set_xlabel(column, fontsize=12)\n",
        "    axes[i].set_ylabel('Frequency', fontsize=12)\n",
        "\n",
        "plt.tight_layout()\n",
        "plt.show()\n"
      ]
    },
    {
      "cell_type": "code",
      "execution_count": null,
      "metadata": {},
      "outputs": [],
      "source": [
        "\n",
        "# Time Series Analysis for each variable\n",
        "fig, axes = plt.subplots(nrows=2, ncols=2, figsize=(12, 8))\n",
        "axes = axes.flatten()\n",
        "\n",
        "for i, column in enumerate(variables):\n",
        "    axes[i].plot(df_aggregated[\"Year\"], df_aggregated[column], marker='o', linestyle='-', label=f\"{column} Trend\")\n",
        "    axes[i].set_xlabel(\"Year\", fontsize=12)\n",
        "    axes[i].set_ylabel(column, fontsize=12)\n",
        "    axes[i].set_title(f\"Time Series (1900-2023) of {column}\", fontsize=14)\n",
        "    axes[i].legend()\n",
        "\n",
        "plt.tight_layout()\n",
        "plt.show()\n"
      ]
    },
    {
      "cell_type": "markdown",
      "metadata": {},
      "source": [
        "## 3. Bivariate Analysis\n",
        "\n",
        "Explore relationships between pairs of climate variables."
      ]
    },
    {
      "cell_type": "code",
      "execution_count": null,
      "metadata": {},
      "outputs": [],
      "source": [
        "\n",
        "# Bivariate Analysis - Scatter plots for pairs of variables\n",
        "sns.pairplot(df_aggregated[variables], diag_kind='kde', markers='o')\n",
        "plt.suptitle('Pair Plot of Climate Variables', y=1.02, fontsize=16)\n",
        "plt.tight_layout()\n",
        "plt.show()\n"
      ]
    },
    {
      "cell_type": "code",
      "execution_count": null,
      "metadata": {},
      "outputs": [],
      "source": [
        "\n",
        "# Compute correlation coefficients (excluding the 'Year' variable)\n",
        "correlation_matrix = df_aggregated[variables].corr()\n",
        "print(\"Correlation Coefficients:\\n\", correlation_matrix)\n"
      ]
    },
    {
      "cell_type": "code",
      "execution_count": null,
      "metadata": {},
      "outputs": [],
      "source": [
        "\n",
        "\n",
        "# Correlation Heatmap\n",
        "plt.figure(figsize=(8, 6))\n",
        "sns.heatmap(correlation_matrix, annot=True, cmap='coolwarm', fmt='.2f', linewidths=0.5)\n",
        "plt.title('Correlation Heatmap', fontsize=16)\n",
        "plt.tight_layout()  # Ensures everything fits well in the figure\n",
        "plt.show()\n"
      ]
    },
    {
      "cell_type": "code",
      "execution_count": null,
      "metadata": {},
      "outputs": [],
      "source": [
        "\n",
        "# Line plots to analyze trends over time\n",
        "fig, axes = plt.subplots(2, 2, figsize=(12, 10))\n",
        "variables = ['Temperature', 'CO2', 'Sea_Level', 'Ice_Area']\n",
        "colors = ['r', 'g', 'b', 'purple']\n",
        "\n",
        "for ax, var, color in zip(axes.flatten(), variables, colors):\n",
        "    sns.lineplot(data=df_aggregated, x='Year', y=var, ax=ax, color=color)\n",
        "    ax.set_title(f'Trend of {var} Over Time', fontsize=14)\n",
        "    ax.set_xlabel('Year', fontsize=12)\n",
        "    ax.set_ylabel(var, fontsize=12)\n",
        "\n",
        "plt.tight_layout()\n",
        "plt.show()\n"
      ]
    },
    {
      "cell_type": "markdown",
      "metadata": {},
      "source": [
        "## 4. Multivariate Analysis\n",
        "\n",
        "Investigate relationships among three or more variables."
      ]
    },
    {
      "cell_type": "code",
      "execution_count": null,
      "metadata": {},
      "outputs": [],
      "source": [
        "\n",
        "\n",
        "# Create a 3D figure and scatter plot\n",
        "fig = plt.figure(figsize=(10, 7))\n",
        "ax = fig.add_subplot(111, projection=\"3d\")\n",
        "\n",
        "# Scatter plot\n",
        "sc = ax.scatter(df_aggregated['Year'], df_aggregated['CO2'], df_aggregated['Temperature'], \n",
        "                c=df_aggregated['Sea_Level'], cmap='coolwarm', s=50, alpha=0.7)\n",
        "\n",
        "# Set labels and title\n",
        "ax.set_xlabel('Year', fontsize=12)\n",
        "ax.set_ylabel('CO2 Levels', fontsize=12)\n",
        "ax.set_zlabel('Temperature', fontsize=12)\n",
        "ax.set_title('3D Scatter Plot of Temperature vs CO2 vs Year', fontsize=14)\n",
        "\n",
        "# Color bar\n",
        "cbar = plt.colorbar(sc)\n",
        "cbar.set_label('Sea Level', fontsize=12)\n",
        "\n",
        "plt.show()\n"
      ]
    },
    {
      "cell_type": "code",
      "execution_count": null,
      "metadata": {},
      "outputs": [],
      "source": [
        "\n",
        "\n",
        "\n",
        "# Reshape data for Seaborn\n",
        "df_melted = df_aggregated.melt(id_vars='Year', value_vars=['Temperature', 'CO2', 'Sea_Level', 'Ice_Area'])\n",
        "\n",
        "# Create multiple line plots for each variable using FacetGrid\n",
        "g = sns.FacetGrid(df_melted, col='variable', col_wrap=2, height=4, sharex=True)\n",
        "g.map(sns.lineplot, 'Year', 'value')\n",
        "\n",
        "# Set the title and show the plot\n",
        "g.set_titles(\"{col_name}\", fontsize=14)\n",
        "g.set_axis_labels(\"Year\", \"Value\", fontsize=12)\n",
        "\n",
        "plt.tight_layout()\n",
        "plt.show()\n"
      ]
    },
    {
      "cell_type": "markdown",
      "metadata": {},
      "source": [
        "## 5. Conclusions and Insights\n",
        "\n",
        "Summarize your findings and discuss their implications."
      ]
    }
  ],
  "metadata": {
    "kernelspec": {
      "display_name": "base",
      "language": "python",
      "name": "python3"
    },
    "language_info": {
      "codemirror_mode": {
        "name": "ipython",
        "version": 3
      },
      "file_extension": ".py",
      "mimetype": "text/x-python",
      "name": "python",
      "nbconvert_exporter": "python",
      "pygments_lexer": "ipython3",
      "version": "3.12.7"
    }
  },
  "nbformat": 4,
  "nbformat_minor": 4
}
